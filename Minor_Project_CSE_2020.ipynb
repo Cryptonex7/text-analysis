{
 "cells": [
  {
   "cell_type": "code",
   "execution_count": 1,
   "metadata": {},
   "outputs": [],
   "source": [
    "from nltk.stem.wordnet import WordNetLemmatizer\n",
    "from nltk.corpus import twitter_samples, stopwords\n",
    "from nltk.tag import pos_tag\n",
    "from nltk.tokenize import word_tokenize\n",
    "from nltk import FreqDist, classify, NaiveBayesClassifier"
   ]
  },
  {
   "cell_type": "code",
   "execution_count": 2,
   "metadata": {},
   "outputs": [],
   "source": [
    "import re, string, random\n",
    "import pandas as pd\n",
    "import csv"
   ]
  },
  {
   "cell_type": "code",
   "execution_count": 3,
   "metadata": {},
   "outputs": [
    {
     "name": "stdout",
     "output_type": "stream",
     "text": [
      "   sentiment          id                          date query_string  \\\n",
      "0          0  1467810369  Mon Apr 06 22:19:45 PDT 2009     NO_QUERY   \n",
      "1          0  1467810672  Mon Apr 06 22:19:49 PDT 2009     NO_QUERY   \n",
      "2          0  1467810917  Mon Apr 06 22:19:53 PDT 2009     NO_QUERY   \n",
      "3          0  1467811184  Mon Apr 06 22:19:57 PDT 2009     NO_QUERY   \n",
      "4          0  1467811193  Mon Apr 06 22:19:57 PDT 2009     NO_QUERY   \n",
      "\n",
      "              user                                               text  \n",
      "0  _TheSpecialOne_  @switchfoot http://twitpic.com/2y1zl - Awww, t...  \n",
      "1    scotthamilton  is upset that he can't update his Facebook by ...  \n",
      "2         mattycus  @Kenichan I dived many times for the ball. Man...  \n",
      "3          ElleCTF    my whole body feels itchy and like its on fire   \n",
      "4           Karoli  @nationwideclass no, it's not behaving at all....  \n"
     ]
    }
   ],
   "source": [
    "cols = ['sentiment','id','date','query_string','user','text']\n",
    "filename = \"training.1600000.processed.noemoticon.csv\"\n",
    "#for importing csv file with utf-8 encoding as dataframe\n",
    "with open(filename, encoding=\"ISO-8859-1\") as csvfile:\n",
    "    df = pd.read_csv(csvfile, delimiter=\",\",header=None,names=cols)\n",
    "print(df.head())"
   ]
  },
  {
   "cell_type": "code",
   "execution_count": 4,
   "metadata": {},
   "outputs": [],
   "source": [
    "def remove_noise(tweet_tokens, stop_words = ()):\n",
    "\n",
    "    cleaned_tokens = []\n",
    "\n",
    "    for token, tag in pos_tag(tweet_tokens):\n",
    "        token = re.sub('http[s]?://(?:[a-zA-Z]|[0-9]|[$-_@.&+#]|[!*\\(\\),]|'\\\n",
    "                       '(?:%[0-9a-fA-F][0-9a-fA-F]))+','', token)\n",
    "        token = re.sub(\"(@[A-Za-z0-9_]+)\",\"\", token)\n",
    "\n",
    "        if tag.startswith(\"NN\"):\n",
    "            pos = 'n'\n",
    "        elif tag.startswith('VB'):\n",
    "            pos = 'v'\n",
    "        else:\n",
    "            pos = 'a'\n",
    "\n",
    "        lemmatizer = WordNetLemmatizer()\n",
    "        token = lemmatizer.lemmatize(token, pos)\n",
    "\n",
    "        if len(token) > 0 and token not in string.punctuation and token.lower() not in stop_words:\n",
    "            cleaned_tokens.append(token.lower())\n",
    "    return cleaned_tokens"
   ]
  },
  {
   "cell_type": "code",
   "execution_count": 5,
   "metadata": {},
   "outputs": [],
   "source": [
    "def get_all_words(cleaned_tokens_list):\n",
    "    for tokens in cleaned_tokens_list:\n",
    "        for token in tokens:\n",
    "            yield token"
   ]
  },
  {
   "cell_type": "code",
   "execution_count": 6,
   "metadata": {},
   "outputs": [],
   "source": [
    "def get_tweets_for_model(cleaned_tokens_list):\n",
    "    for tweet_tokens in cleaned_tokens_list:\n",
    "        yield dict([token, True] for token in tweet_tokens)"
   ]
  },
  {
   "cell_type": "code",
   "execution_count": 7,
   "metadata": {},
   "outputs": [
    {
     "name": "stderr",
     "output_type": "stream",
     "text": [
      "[nltk_data] Downloading package stopwords to\n",
      "[nltk_data]     C:\\Users\\KIIT\\AppData\\Roaming\\nltk_data...\n",
      "[nltk_data]   Package stopwords is already up-to-date!\n",
      "[nltk_data] Downloading package averaged_perceptron_tagger to\n",
      "[nltk_data]     C:\\Users\\KIIT\\AppData\\Roaming\\nltk_data...\n",
      "[nltk_data]   Package averaged_perceptron_tagger is already up-to-\n",
      "[nltk_data]       date!\n"
     ]
    },
    {
     "name": "stdout",
     "output_type": "stream",
     "text": [
      "[('...', 15452), ('good', 9499), ('get', 8786), ('go', 7860), (\"i'm\", 6965), ('love', 6409), ('day', 6383), ('..', 5511), ('like', 5144), ('thanks', 4345)]\n",
      "Accuracy is: 0.74345\n",
      "Most Informative Features\n",
      "               depressed = True           Negati : Positi =     31.5 : 1.0\n",
      "                  gutted = True           Negati : Positi =     31.4 : 1.0\n",
      "                  cook's = True           Negati : Positi =     22.2 : 1.0\n",
      "                   boooo = True           Negati : Positi =     19.7 : 1.0\n",
      "                   cramp = True           Negati : Positi =     18.9 : 1.0\n",
      "            disappointed = True           Negati : Positi =     18.3 : 1.0\n",
      "                   sadly = True           Negati : Positi =     18.1 : 1.0\n",
      "                 unhappy = True           Negati : Positi =     17.6 : 1.0\n",
      "                     sad = True           Negati : Positi =     16.7 : 1.0\n",
      "                     sux = True           Negati : Positi =     16.4 : 1.0\n",
      "None\n"
     ]
    }
   ],
   "source": [
    "import nltk\n",
    "nltk.download('stopwords')\n",
    "nltk.download('averaged_perceptron_tagger')\n",
    "from nltk.tokenize import TweetTokenizer\n",
    "tweet_tokenizer = TweetTokenizer()\n",
    "if __name__ == \"__main__\":\n",
    "\n",
    "    positive_tweets = list(df.text[800000:900000])\n",
    "    #print(type(positive_tweets[0]))\n",
    "    negative_tweets = list(df.text[0:100000])\n",
    "    #text = twitter_samples.strings('tweets.20150430-223406.json')\n",
    "    #print(type(positive_tweets[0]))\n",
    "    \n",
    "    #tweet_tokens = twitter_samples.tokenized('positive_tweets.json')[0]\n",
    "\n",
    "    stop_words = stopwords.words('english')\n",
    "    #print(type(twitter_samples.tokenized('positive_tweets.json')))\n",
    "    #positive_tweet_tokens = twitter_samples.tokenized('positive_tweets.json')\n",
    "    positive_tweet_tokens = []\n",
    "    for sent in positive_tweets:\n",
    "        #print(word_tokenize(sent))\n",
    "        positive_tweet_tokens.append(tweet_tokenizer.tokenize(sent))\n",
    "    \n",
    "    \n",
    "    #negative_tweet_tokens = twitter_samples.tokenized('negative_tweets.json')\n",
    "    negative_tweet_tokens = []\n",
    "    for sent in negative_tweets:\n",
    "        #print(word_tokenize(sent))\n",
    "        negative_tweet_tokens.append(tweet_tokenizer.tokenize(sent))\n",
    "    \n",
    "    #print(positive_tweet_tokens[0])\n",
    "    #print(negative_tweet_tokens[0])\n",
    "    \n",
    "    positive_cleaned_tokens_list = []\n",
    "    negative_cleaned_tokens_list = []\n",
    "\n",
    "    for tokens in positive_tweet_tokens:\n",
    "        positive_cleaned_tokens_list.append(remove_noise(tokens, stop_words))\n",
    "\n",
    "    for tokens in negative_tweet_tokens:\n",
    "        negative_cleaned_tokens_list.append(remove_noise(tokens, stop_words))\n",
    "\n",
    "    all_pos_words = get_all_words(positive_cleaned_tokens_list)\n",
    "\n",
    "    freq_dist_pos = FreqDist(all_pos_words)\n",
    "    print(freq_dist_pos.most_common(10))\n",
    "\n",
    "    positive_tokens_for_model = get_tweets_for_model(positive_cleaned_tokens_list)\n",
    "    negative_tokens_for_model = get_tweets_for_model(negative_cleaned_tokens_list)\n",
    "\n",
    "    positive_dataset = [(tweet_dict, \"Positive\")\n",
    "                         for tweet_dict in positive_tokens_for_model]\n",
    "\n",
    "    negative_dataset = [(tweet_dict, \"Negative\")\n",
    "                         for tweet_dict in negative_tokens_for_model]\n",
    "\n",
    "    dataset = positive_dataset + negative_dataset\n",
    "\n",
    "    random.shuffle(dataset)\n",
    "\n",
    "    train_data = dataset[:140000]\n",
    "    test_data = dataset[140000:]\n",
    "\n",
    "    classifier = NaiveBayesClassifier.train(train_data)\n",
    "\n",
    "    print(\"Accuracy is:\", classify.accuracy(classifier, test_data))\n",
    "\n",
    "    print(classifier.show_most_informative_features(10))\n",
    "    "
   ]
  },
  {
   "cell_type": "code",
   "execution_count": 8,
   "metadata": {},
   "outputs": [
    {
     "name": "stdout",
     "output_type": "stream",
     "text": [
      "Enter the tweet : I don't love you\n",
      "The sentiment of the tweet \"I don't love you\" is \"Positive\"\n"
     ]
    }
   ],
   "source": [
    "input_tweet=input(\"Enter the tweet : \")\n",
    "input_tokens=remove_noise(word_tokenize(input_tweet))\n",
    "print(f'The sentiment of the tweet \"{input_tweet}\" is \"{classifier.classify(dict([token, True] for token in input_tokens))}\"')"
   ]
  },
  {
   "cell_type": "code",
   "execution_count": 9,
   "metadata": {},
   "outputs": [],
   "source": [
    "#importing pickle file\n",
    "import pickle\n",
    "with open('Minor_project_ml_model.pickle','wb') as f:\n",
    "    pickle.dump(classifier,f)"
   ]
  },
  {
   "cell_type": "code",
   "execution_count": 10,
   "metadata": {},
   "outputs": [],
   "source": [
    "#observation of pickle file\n",
    "with open('Minor_project_ml_model.pickle','rb') as h:\n",
    "    model=pickle.load(h)"
   ]
  },
  {
   "cell_type": "code",
   "execution_count": 11,
   "metadata": {},
   "outputs": [
    {
     "name": "stdout",
     "output_type": "stream",
     "text": [
      "Enter the tweet : I don't love you\n",
      "The sentiment of the tweet \"I don't love you\" is \"Positive\"\n"
     ]
    }
   ],
   "source": [
    "#Testing\n",
    "q=input(\"Enter the tweet : \")\n",
    "qq=remove_noise(word_tokenize(q))\n",
    "print(f'The sentiment of the tweet \"{q}\" is \"{model.classify(dict([token, True] for token in qq))}\"')"
   ]
  }
 ],
 "metadata": {
  "kernelspec": {
   "display_name": "Python 3",
   "language": "python",
   "name": "python3"
  },
  "language_info": {
   "codemirror_mode": {
    "name": "ipython",
    "version": 3
   },
   "file_extension": ".py",
   "mimetype": "text/x-python",
   "name": "python",
   "nbconvert_exporter": "python",
   "pygments_lexer": "ipython3",
   "version": "3.7.1"
  }
 },
 "nbformat": 4,
 "nbformat_minor": 2
}
